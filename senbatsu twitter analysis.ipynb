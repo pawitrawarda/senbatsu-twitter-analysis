{
 "cells": [
  {
   "cell_type": "code",
   "execution_count": 1,
   "metadata": {},
   "outputs": [],
   "source": [
    "import pandas as pd\n",
    "from pandas_datareader import data\n",
    "import glob\n",
    "import matplotlib.pyplot as plt\n",
    "import seaborn as sns\n",
    "import datetime\n",
    "from itertools import groupby\n",
    "import re\n",
    "%matplotlib inline"
   ]
  },
  {
   "cell_type": "code",
   "execution_count": 2,
   "metadata": {},
   "outputs": [],
   "source": [
    "# mengiterasi semua file senbatsu json ke dalam python\n",
    "path = r\"C:\\Users\\Compaq\\Anaconda3\\Twitter\\twitter-scraper-master\\senbatsu analysis\\senbatsu_json\"\n",
    "files = [f for f in glob.glob(path + '*/**.json', recursive=True)]"
   ]
  },
  {
   "cell_type": "code",
   "execution_count": 3,
   "metadata": {},
   "outputs": [],
   "source": [
    "# menciptakan set untuk variabel baru\n",
    "senbatsu_set = [\"senbatsu_aby\", \"senbatsu_amel\", \"senbatsu_aya\", \"senbatsu_beby\", \"senbatsu_celine\", \n",
    "                 \"senbatsu_christy\", \"senbatsu_cinhap\", \"senbatsu_diani\", \"senbatsu_eli\", \"senbatsu_feni\", \"senbatsu_gracia\", \n",
    "                 \"senbatsu_jinan\", \"senbatsu_melati\", \"senbatsu_nadila\", \"senbatsu_shani\", \"senbatsu_vivi\"]\n",
    "\n"
   ]
  },
  {
   "cell_type": "code",
   "execution_count": 4,
   "metadata": {},
   "outputs": [],
   "source": [
    "senbatsu_list = [\"senbatsu_aby\", \"senbatsu_amel\", \"senbatsu_aya\", \"senbatsu_beby\", \"senbatsu_celine\", \n",
    "                 \"senbatsu_christy\", \"senbatsu_cinhap\", \"senbatsu_diani\", \"senbatsu_eli\", \"senbatsu_feni\", \"senbatsu_gracia\", \n",
    "                 \"senbatsu_jinan\", \"senbatsu_melati\", \"senbatsu_nadila\", \"senbatsu_shani\", \"senbatsu_vivi\"]\n",
    "\n"
   ]
  },
  {
   "cell_type": "code",
   "execution_count": 5,
   "metadata": {},
   "outputs": [],
   "source": [
    "# mengiterasi semua data senbatsu ke dataframe pandas\n",
    "num = 0\n",
    "for f in files:\n",
    "    senbatsu_list[num] = pd.read_json(f,typ='frame',encoding='utf-8')\n",
    "    num += 1"
   ]
  },
  {
   "cell_type": "code",
   "execution_count": 6,
   "metadata": {},
   "outputs": [],
   "source": [
    "# mengiterasi semua dataframe senbatsu ke dalam masing-masing variabel\n",
    "num = 0\n",
    "for f in senbatsu_list:\n",
    "    globals()[senbatsu_set[num]] = f\n",
    "    num += 1"
   ]
  },
  {
   "cell_type": "code",
   "execution_count": 7,
   "metadata": {},
   "outputs": [],
   "source": [
    "senbatsu_df = [senbatsu_aby, senbatsu_amel, senbatsu_aya, senbatsu_beby, senbatsu_celine, \n",
    "                 senbatsu_christy, senbatsu_cinhap, senbatsu_diani, senbatsu_eli, senbatsu_feni, senbatsu_gracia, \n",
    "                 senbatsu_jinan, senbatsu_melati, senbatsu_nadila, senbatsu_shani, senbatsu_vivi]"
   ]
  },
  {
   "cell_type": "code",
   "execution_count": 8,
   "metadata": {},
   "outputs": [],
   "source": [
    "# merapikan dataframe senbatsu\n",
    "for df in senbatsu_df:\n",
    "    df.drop(['html','is_retweet','retweet_id','retweeter_userid','retweeter_username','timestamp_epochs','tweet_id','user_id'],axis = 1,inplace=True)\n",
    "    df['timestamp']=pd.to_datetime(df['timestamp'])\n",
    "    df.sort_values('timestamp',inplace=True)"
   ]
  },
  {
   "cell_type": "code",
   "execution_count": 9,
   "metadata": {},
   "outputs": [],
   "source": [
    "for df in senbatsu_df:\n",
    "    df.drop_duplicates(inplace=True)"
   ]
  },
  {
   "cell_type": "code",
   "execution_count": 10,
   "metadata": {},
   "outputs": [],
   "source": [
    "#menghitung jumlah kicauan masing-masing senbatsu\n",
    "senbatsu_count = []\n",
    "num = 0\n",
    "for df in senbatsu_df:\n",
    "    senbatsu_count.append(df['text'].count())\n",
    "    \n",
    "    "
   ]
  },
  {
   "cell_type": "code",
   "execution_count": 11,
   "metadata": {
    "scrolled": false
   },
   "outputs": [
    {
     "data": {
      "image/png": "[encoded data removed]",
      "text/plain": [
       "<Figure size 432x288 with 1 Axes>"
      ]
     },
     "metadata": {},
     "output_type": "display_data"
    },
    {
     "data": {
      "text/plain": [
       "{'senbatsu_aby': 334,\n",
       " 'senbatsu_amel': 421,\n",
       " 'senbatsu_aya': 241,\n",
       " 'senbatsu_beby': 458,\n",
       " 'senbatsu_celine': 111,\n",
       " 'senbatsu_christy': 274,\n",
       " 'senbatsu_cinhap': 227,\n",
       " 'senbatsu_diani': 333,\n",
       " 'senbatsu_eli': 373,\n",
       " 'senbatsu_feni': 143,\n",
       " 'senbatsu_gracia': 500,\n",
       " 'senbatsu_jinan': 178,\n",
       " 'senbatsu_melati': 232,\n",
       " 'senbatsu_nadila': 268,\n",
       " 'senbatsu_shani': 392,\n",
       " 'senbatsu_vivi': 454}"
      ]
     },
     "execution_count": 11,
     "metadata": {},
     "output_type": "execute_result"
    }
   ],
   "source": [
    "plt.style.use('ggplot')\n",
    "D = dict(zip(senbatsu_set,senbatsu_count))\n",
    "ax = plt.subplot()\n",
    "plt.barh(*zip(*D.items()))\n",
    "ax.set_title('Jumlah Kicauan Member Senbatsu')\n",
    "plt.show()\n",
    "D"
   ]
  },
  {
   "cell_type": "code",
   "execution_count": 12,
   "metadata": {},
   "outputs": [],
   "source": [
    "#fungsi untuk mengukur rerata kicauan member perharinya\n",
    "def twit_average(senbatsu):\n",
    "    total_date = []\n",
    "    day = datetime.date.day\n",
    "    for dt in senbatsu['timestamp']:\n",
    "        total_date.append(dt.day)\n",
    "    \n",
    "    key_list = []\n",
    "    for key in groupby(total_date):\n",
    "        key_list.append(key)\n",
    "    \n",
    "    return len(total_date)/len(key_list)"
   ]
  },
  {
   "cell_type": "code",
   "execution_count": 13,
   "metadata": {},
   "outputs": [],
   "source": [
    "average_count = []\n",
    "for df in senbatsu_df:\n",
    "    average_count.append(twit_average(df))"
   ]
  },
  {
   "cell_type": "code",
   "execution_count": 14,
   "metadata": {},
   "outputs": [
    {
     "data": {
      "image/png": "[encoded data removed]",
      "text/plain": [
       "<Figure size 432x288 with 1 Axes>"
      ]
     },
     "metadata": {},
     "output_type": "display_data"
    },
    {
     "data": {
      "text/plain": [
       "{'senbatsu_aby': 4.638888888888889,\n",
       " 'senbatsu_amel': 5.5394736842105265,\n",
       " 'senbatsu_aya': 3.3472222222222223,\n",
       " 'senbatsu_beby': 6.026315789473684,\n",
       " 'senbatsu_celine': 2.22,\n",
       " 'senbatsu_christy': 3.6533333333333333,\n",
       " 'senbatsu_cinhap': 3.6031746031746033,\n",
       " 'senbatsu_diani': 4.561643835616438,\n",
       " 'senbatsu_eli': 5.04054054054054,\n",
       " 'senbatsu_feni': 2.3442622950819674,\n",
       " 'senbatsu_gracia': 6.578947368421052,\n",
       " 'senbatsu_jinan': 2.6176470588235294,\n",
       " 'senbatsu_melati': 3.3142857142857145,\n",
       " 'senbatsu_nadila': 3.7746478873239435,\n",
       " 'senbatsu_shani': 5.157894736842105,\n",
       " 'senbatsu_vivi': 6.135135135135135}"
      ]
     },
     "execution_count": 14,
     "metadata": {},
     "output_type": "execute_result"
    }
   ],
   "source": [
    "plt.style.use('ggplot')\n",
    "A = dict(zip(senbatsu_set,average_count))\n",
    "ax = plt.subplot()\n",
    "plt.barh(*zip(*A.items()))\n",
    "ax.set_title('Rerata Kicauan Member Senbatsu Perhari')\n",
    "plt.show()\n",
    "A"
   ]
  },
  {
   "cell_type": "code",
   "execution_count": 15,
   "metadata": {},
   "outputs": [
    {
     "data": {
      "text/plain": [
       "[306]"
      ]
     },
     "execution_count": 15,
     "metadata": {},
     "output_type": "execute_result"
    }
   ],
   "source": [
    "senbatsu_vivi['retweets'].sort_values(ascending=False).head(1).values.tolist()"
   ]
  },
  {
   "cell_type": "code",
   "execution_count": 16,
   "metadata": {},
   "outputs": [],
   "source": [
    "#melacak kicauan member senbatsu dengan retweet paling banyak\n",
    "senbatsu_retweet = []\n",
    "for df in senbatsu_df:\n",
    "    senbatsu_retweet.append(df['retweets'].sort_values(ascending=False).head(1).to_list())"
   ]
  },
  {
   "cell_type": "code",
   "execution_count": 17,
   "metadata": {
    "scrolled": true
   },
   "outputs": [
    {
     "data": {
      "text/plain": [
       "[[174],\n",
       " [1197],\n",
       " [232],\n",
       " [875],\n",
       " [222],\n",
       " [329],\n",
       " [328],\n",
       " [180],\n",
       " [176],\n",
       " [286],\n",
       " [608],\n",
       " [267],\n",
       " [265],\n",
       " [370],\n",
       " [881],\n",
       " [306]]"
      ]
     },
     "execution_count": 17,
     "metadata": {},
     "output_type": "execute_result"
    }
   ],
   "source": [
    "senbatsu_retweet"
   ]
  },
  {
   "cell_type": "code",
   "execution_count": 18,
   "metadata": {},
   "outputs": [],
   "source": [
    "senbatsu_retweet = [174,1197,232,875,222,329,328,180,176,286,608,267,265,370,881,306]"
   ]
  },
  {
   "cell_type": "code",
   "execution_count": 19,
   "metadata": {
    "scrolled": false
   },
   "outputs": [
    {
     "data": {
      "image/png": "[encoded data removed]",
      "text/plain": [
       "<Figure size 432x288 with 1 Axes>"
      ]
     },
     "metadata": {},
     "output_type": "display_data"
    },
    {
     "data": {
      "text/plain": [
       "{'senbatsu_aby': 174,\n",
       " 'senbatsu_amel': 1197,\n",
       " 'senbatsu_aya': 232,\n",
       " 'senbatsu_beby': 875,\n",
       " 'senbatsu_celine': 222,\n",
       " 'senbatsu_christy': 329,\n",
       " 'senbatsu_cinhap': 328,\n",
       " 'senbatsu_diani': 180,\n",
       " 'senbatsu_eli': 176,\n",
       " 'senbatsu_feni': 286,\n",
       " 'senbatsu_gracia': 608,\n",
       " 'senbatsu_jinan': 267,\n",
       " 'senbatsu_melati': 265,\n",
       " 'senbatsu_nadila': 370,\n",
       " 'senbatsu_shani': 881,\n",
       " 'senbatsu_vivi': 306}"
      ]
     },
     "execution_count": 19,
     "metadata": {},
     "output_type": "execute_result"
    }
   ],
   "source": [
    "plt.style.use('ggplot')\n",
    "C = dict(zip(senbatsu_set,senbatsu_retweet))\n",
    "ax = plt.subplot()\n",
    "plt.barh(*zip(*C.items()))\n",
    "ax.set_title('Kicauan Member Senbatsu dengan Retweet Terbanyak')\n",
    "plt.show()\n",
    "C"
   ]
  },
  {
   "cell_type": "code",
   "execution_count": 20,
   "metadata": {},
   "outputs": [],
   "source": [
    "#kicauan member senbatsu dengan like terbanyak\n",
    "senbatsu_likes = []\n",
    "for df in senbatsu_df:\n",
    "    senbatsu_likes.append(df['likes'].sort_values(ascending=False).head(1).to_list())"
   ]
  },
  {
   "cell_type": "code",
   "execution_count": 21,
   "metadata": {},
   "outputs": [
    {
     "data": {
      "text/plain": [
       "[[870],\n",
       " [3995],\n",
       " [1694],\n",
       " [3134],\n",
       " [1544],\n",
       " [2001],\n",
       " [1730],\n",
       " [998],\n",
       " [1190],\n",
       " [1462],\n",
       " [2984],\n",
       " [1953],\n",
       " [2127],\n",
       " [1722],\n",
       " [4539],\n",
       " [2091]]"
      ]
     },
     "execution_count": 21,
     "metadata": {},
     "output_type": "execute_result"
    }
   ],
   "source": [
    "senbatsu_likes"
   ]
  },
  {
   "cell_type": "code",
   "execution_count": 22,
   "metadata": {},
   "outputs": [],
   "source": [
    "senbatsu_likes = [870,3995,1694,3134,1544,2001,1730,998,1190,1462,2984,1953,2127,1722,4539,2091]"
   ]
  },
  {
   "cell_type": "code",
   "execution_count": 23,
   "metadata": {
    "scrolled": false
   },
   "outputs": [
    {
     "data": {
      "image/png": "[encoded data removed]",
      "text/plain": [
       "<Figure size 432x288 with 1 Axes>"
      ]
     },
     "metadata": {},
     "output_type": "display_data"
    },
    {
     "data": {
      "text/plain": [
       "{'senbatsu_aby': 870,\n",
       " 'senbatsu_amel': 3995,\n",
       " 'senbatsu_aya': 1694,\n",
       " 'senbatsu_beby': 3134,\n",
       " 'senbatsu_celine': 1544,\n",
       " 'senbatsu_christy': 2001,\n",
       " 'senbatsu_cinhap': 1730,\n",
       " 'senbatsu_diani': 998,\n",
       " 'senbatsu_eli': 1190,\n",
       " 'senbatsu_feni': 1462,\n",
       " 'senbatsu_gracia': 2984,\n",
       " 'senbatsu_jinan': 1953,\n",
       " 'senbatsu_melati': 2127,\n",
       " 'senbatsu_nadila': 1722,\n",
       " 'senbatsu_shani': 4539,\n",
       " 'senbatsu_vivi': 2091}"
      ]
     },
     "execution_count": 23,
     "metadata": {},
     "output_type": "execute_result"
    }
   ],
   "source": [
    "plt.style.use('ggplot')\n",
    "E = dict(zip(senbatsu_set,senbatsu_likes))\n",
    "ax = plt.subplot()\n",
    "plt.barh(*zip(*E.items()))\n",
    "ax.set_title('Kicauan Member Senbatsu dengan Like Terbanyak')\n",
    "plt.show()\n",
    "E"
   ]
  },
  {
   "cell_type": "code",
   "execution_count": 24,
   "metadata": {},
   "outputs": [],
   "source": [
    "#mengukur kicauan member senbatsu dengan reply terbanyak\n",
    "senbatsu_reply = []\n",
    "for df in senbatsu_df:\n",
    "    senbatsu_reply.append(df['replies'].sort_values(ascending=False).head(1).to_list())"
   ]
  },
  {
   "cell_type": "code",
   "execution_count": 25,
   "metadata": {},
   "outputs": [
    {
     "data": {
      "text/plain": [
       "[[134],\n",
       " [509],\n",
       " [304],\n",
       " [634],\n",
       " [147],\n",
       " [270],\n",
       " [203],\n",
       " [113],\n",
       " [255],\n",
       " [136],\n",
       " [556],\n",
       " [316],\n",
       " [231],\n",
       " [311],\n",
       " [593],\n",
       " [574]]"
      ]
     },
     "execution_count": 25,
     "metadata": {},
     "output_type": "execute_result"
    }
   ],
   "source": [
    "senbatsu_reply"
   ]
  },
  {
   "cell_type": "code",
   "execution_count": 26,
   "metadata": {},
   "outputs": [],
   "source": [
    "senbatsu_reply = [134,509,304,634,147,270,203,113,255,136,556,316,231,311,593,574]"
   ]
  },
  {
   "cell_type": "code",
   "execution_count": 27,
   "metadata": {},
   "outputs": [
    {
     "data": {
      "image/png": "[encoded data removed]",
      "text/plain": [
       "<Figure size 432x288 with 1 Axes>"
      ]
     },
     "metadata": {},
     "output_type": "display_data"
    },
    {
     "data": {
      "text/plain": [
       "{'senbatsu_aby': 134,\n",
       " 'senbatsu_amel': 509,\n",
       " 'senbatsu_aya': 304,\n",
       " 'senbatsu_beby': 634,\n",
       " 'senbatsu_celine': 147,\n",
       " 'senbatsu_christy': 270,\n",
       " 'senbatsu_cinhap': 203,\n",
       " 'senbatsu_diani': 113,\n",
       " 'senbatsu_eli': 255,\n",
       " 'senbatsu_feni': 136,\n",
       " 'senbatsu_gracia': 556,\n",
       " 'senbatsu_jinan': 316,\n",
       " 'senbatsu_melati': 231,\n",
       " 'senbatsu_nadila': 311,\n",
       " 'senbatsu_shani': 593,\n",
       " 'senbatsu_vivi': 574}"
      ]
     },
     "execution_count": 27,
     "metadata": {},
     "output_type": "execute_result"
    }
   ],
   "source": [
    "plt.style.use('ggplot')\n",
    "F = dict(zip(senbatsu_set,senbatsu_reply))\n",
    "ax = plt.subplot()\n",
    "plt.barh(*zip(*F.items()))\n",
    "ax.set_title('Kicauan Member Senbatsu dengan Reply Terbanyak')\n",
    "plt.show()\n",
    "F"
   ]
  },
  {
   "cell_type": "code",
   "execution_count": 28,
   "metadata": {},
   "outputs": [
    {
     "data": {
      "text/html": [
       "<div>\n",
       "<style scoped>\n",
       "    .dataframe tbody tr th:only-of-type {\n",
       "        vertical-align: middle;\n",
       "    }\n",
       "\n",
       "    .dataframe tbody tr th {\n",
       "        vertical-align: top;\n",
       "    }\n",
       "\n",
       "    .dataframe thead th {\n",
       "        text-align: right;\n",
       "    }\n",
       "</style>\n",
       "<table border=\"1\" class=\"dataframe\">\n",
       "  <thead>\n",
       "    <tr style=\"text-align: right;\">\n",
       "      <th></th>\n",
       "      <th>fullname</th>\n",
       "      <th>likes</th>\n",
       "      <th>replies</th>\n",
       "      <th>retweets</th>\n",
       "      <th>text</th>\n",
       "      <th>timestamp</th>\n",
       "      <th>tweet_url</th>\n",
       "      <th>username</th>\n",
       "    </tr>\n",
       "  </thead>\n",
       "  <tbody>\n",
       "    <tr>\n",
       "      <td>473</td>\n",
       "      <td>Viona Fadrin</td>\n",
       "      <td>1649</td>\n",
       "      <td>574</td>\n",
       "      <td>306</td>\n",
       "      <td>Permisi...pic.twitter.com/3T3lI8NknB</td>\n",
       "      <td>2019-09-15 12:31:06</td>\n",
       "      <td>/F_ViviJKT48/status/1173212644821463040</td>\n",
       "      <td>F_ViviJKT48</td>\n",
       "    </tr>\n",
       "  </tbody>\n",
       "</table>\n",
       "</div>"
      ],
      "text/plain": [
       "         fullname  likes  replies  retweets  \\\n",
       "473  Viona Fadrin   1649      574       306   \n",
       "\n",
       "                                     text           timestamp  \\\n",
       "473  Permisi...pic.twitter.com/3T3lI8NknB 2019-09-15 12:31:06   \n",
       "\n",
       "                                   tweet_url     username  \n",
       "473  /F_ViviJKT48/status/1173212644821463040  F_ViviJKT48  "
      ]
     },
     "execution_count": 28,
     "metadata": {},
     "output_type": "execute_result"
    }
   ],
   "source": [
    "senbatsu_vivi.sort_values('replies',ascending=False).head(1)"
   ]
  },
  {
   "cell_type": "code",
   "execution_count": 29,
   "metadata": {},
   "outputs": [
    {
     "data": {
      "text/html": [
       "<div>\n",
       "<style scoped>\n",
       "    .dataframe tbody tr th:only-of-type {\n",
       "        vertical-align: middle;\n",
       "    }\n",
       "\n",
       "    .dataframe tbody tr th {\n",
       "        vertical-align: top;\n",
       "    }\n",
       "\n",
       "    .dataframe thead th {\n",
       "        text-align: right;\n",
       "    }\n",
       "</style>\n",
       "<table border=\"1\" class=\"dataframe\">\n",
       "  <thead>\n",
       "    <tr style=\"text-align: right;\">\n",
       "      <th></th>\n",
       "      <th>fullname</th>\n",
       "      <th>likes</th>\n",
       "      <th>replies</th>\n",
       "      <th>retweets</th>\n",
       "      <th>text</th>\n",
       "      <th>timestamp</th>\n",
       "      <th>tweet_url</th>\n",
       "      <th>username</th>\n",
       "    </tr>\n",
       "  </thead>\n",
       "  <tbody>\n",
       "    <tr>\n",
       "      <td>170</td>\n",
       "      <td>Beby Chaesara A</td>\n",
       "      <td>3134</td>\n",
       "      <td>634</td>\n",
       "      <td>640</td>\n",
       "      <td>Selamat pagi dari aku yang pertama kalinya dan...</td>\n",
       "      <td>2019-10-31 00:38:16</td>\n",
       "      <td>/bebyJKT48/status/1189703095938240512</td>\n",
       "      <td>bebyJKT48</td>\n",
       "    </tr>\n",
       "  </tbody>\n",
       "</table>\n",
       "</div>"
      ],
      "text/plain": [
       "            fullname  likes  replies  retweets  \\\n",
       "170  Beby Chaesara A   3134      634       640   \n",
       "\n",
       "                                                  text           timestamp  \\\n",
       "170  Selamat pagi dari aku yang pertama kalinya dan... 2019-10-31 00:38:16   \n",
       "\n",
       "                                 tweet_url   username  \n",
       "170  /bebyJKT48/status/1189703095938240512  bebyJKT48  "
      ]
     },
     "execution_count": 29,
     "metadata": {},
     "output_type": "execute_result"
    }
   ],
   "source": [
    "senbatsu_beby.sort_values('replies',ascending=False).head(1)"
   ]
  },
  {
   "cell_type": "code",
   "execution_count": 30,
   "metadata": {},
   "outputs": [],
   "source": [
    "# membuat fungsi untuk melacak berapa banyak kata-kata yang keluar dari kicauan member senbatsu\n",
    "def twit_generator(senbatsu):\n",
    "    wordcount = []\n",
    "    for list in senbatsu['text'].to_list():\n",
    "        for word in list.split():\n",
    "            wordcount.append(word)\n",
    "    return len(wordcount)"
   ]
  },
  {
   "cell_type": "code",
   "execution_count": 31,
   "metadata": {},
   "outputs": [],
   "source": [
    "total_word = []\n",
    "for df in senbatsu_df:\n",
    "    total_word.append(twit_generator(df))"
   ]
  },
  {
   "cell_type": "code",
   "execution_count": 32,
   "metadata": {},
   "outputs": [
    {
     "data": {
      "image/png": "[encoded data removed]",
      "text/plain": [
       "<Figure size 432x288 with 1 Axes>"
      ]
     },
     "metadata": {},
     "output_type": "display_data"
    },
    {
     "data": {
      "text/plain": [
       "{'senbatsu_aby': 2696,\n",
       " 'senbatsu_amel': 4899,\n",
       " 'senbatsu_aya': 4380,\n",
       " 'senbatsu_beby': 5867,\n",
       " 'senbatsu_celine': 1275,\n",
       " 'senbatsu_christy': 2394,\n",
       " 'senbatsu_cinhap': 2712,\n",
       " 'senbatsu_diani': 4947,\n",
       " 'senbatsu_eli': 5627,\n",
       " 'senbatsu_feni': 1986,\n",
       " 'senbatsu_gracia': 5409,\n",
       " 'senbatsu_jinan': 1480,\n",
       " 'senbatsu_melati': 3409,\n",
       " 'senbatsu_nadila': 2762,\n",
       " 'senbatsu_shani': 3945,\n",
       " 'senbatsu_vivi': 5663}"
      ]
     },
     "execution_count": 32,
     "metadata": {},
     "output_type": "execute_result"
    }
   ],
   "source": [
    "plt.style.use('ggplot')\n",
    "G = dict(zip(senbatsu_set,total_word))\n",
    "ax = plt.subplot()\n",
    "plt.barh(*zip(*G.items()))\n",
    "ax.set_title('Total Kata-Kata dalam Kicauan Member Senbatsu')\n",
    "plt.show()\n",
    "G"
   ]
  },
  {
   "cell_type": "code",
   "execution_count": 33,
   "metadata": {},
   "outputs": [],
   "source": [
    "#membuat fungsi untuk mengukur jumlah foto yang diunggah member senbatsu\n",
    "def pic_count(senbatsu):\n",
    "    piccount = []\n",
    "    for list in senbatsu['text'].to_list():\n",
    "        for word in list.split():\n",
    "            piccount.append(word)\n",
    "    pic_generator = []\n",
    "    for pic in piccount:\n",
    "        if re.search(\".pic.twitter.com.\",pic) == None:\n",
    "            pass\n",
    "        else:\n",
    "            pic_generator.append(pic)\n",
    "    return len(pic_generator)"
   ]
  },
  {
   "cell_type": "code",
   "execution_count": 34,
   "metadata": {},
   "outputs": [],
   "source": [
    "total_pic = []\n",
    "for df in senbatsu_df:\n",
    "    total_pic.append(pic_count(df))"
   ]
  },
  {
   "cell_type": "code",
   "execution_count": 35,
   "metadata": {},
   "outputs": [
    {
     "data": {
      "image/png": "[encoded data removed]",
      "text/plain": [
       "<Figure size 432x288 with 1 Axes>"
      ]
     },
     "metadata": {},
     "output_type": "display_data"
    },
    {
     "data": {
      "text/plain": [
       "{'senbatsu_aby': 89,\n",
       " 'senbatsu_amel': 103,\n",
       " 'senbatsu_aya': 29,\n",
       " 'senbatsu_beby': 57,\n",
       " 'senbatsu_celine': 30,\n",
       " 'senbatsu_christy': 40,\n",
       " 'senbatsu_cinhap': 18,\n",
       " 'senbatsu_diani': 50,\n",
       " 'senbatsu_eli': 92,\n",
       " 'senbatsu_feni': 17,\n",
       " 'senbatsu_gracia': 47,\n",
       " 'senbatsu_jinan': 39,\n",
       " 'senbatsu_melati': 39,\n",
       " 'senbatsu_nadila': 27,\n",
       " 'senbatsu_shani': 23,\n",
       " 'senbatsu_vivi': 105}"
      ]
     },
     "execution_count": 35,
     "metadata": {},
     "output_type": "execute_result"
    }
   ],
   "source": [
    "plt.style.use('ggplot')\n",
    "H = dict(zip(senbatsu_set,total_pic))\n",
    "ax = plt.subplot()\n",
    "plt.barh(*zip(*H.items()))\n",
    "ax.set_title('Total Foto & Video dalam Kicauan Member Senbatsu')\n",
    "plt.show()\n",
    "H"
   ]
  },
  {
   "cell_type": "code",
   "execution_count": 36,
   "metadata": {},
   "outputs": [],
   "source": [
    "# fungsi untuk memeriksa valid atau tidaknya fungsi di atas\n",
    "def pic_count1(senbatsu):\n",
    "    piccount = []\n",
    "    for list in senbatsu['text'].to_list():\n",
    "        for word in list.split():\n",
    "            piccount.append(word)\n",
    "    pic_generator = []\n",
    "    for pic in piccount:\n",
    "        if re.search(\".pic.twitter.com.\",pic) == None:\n",
    "            pass\n",
    "        else:\n",
    "            pic_generator.append(pic)\n",
    "    return pic_generator"
   ]
  },
  {
   "cell_type": "code",
   "execution_count": 37,
   "metadata": {
    "scrolled": false
   },
   "outputs": [
    {
     "data": {
      "text/plain": [
       "['Permisi...pic.twitter.com/3T3lI8NknB',\n",
       " 'dahpic.twitter.com/VZQGNei0Ed',\n",
       " 'tandinganpic.twitter.com/AecHBJ223d',\n",
       " 'emaknypic.twitter.com/1xGjHhANDU',\n",
       " 'all~pic.twitter.com/aiNszSHHr3',\n",
       " 'introvertpic.twitter.com/6rX52PCnJ8',\n",
       " 'adohhhhhhpic.twitter.com/f6OwYAkGZT',\n",
       " 'dahpic.twitter.com/y3Ux8pKhin',\n",
       " 'latihaaannpic.twitter.com/igc5b8Zrnk',\n",
       " 'dmpic.twitter.com/HWekSskOFf',\n",
       " 'bntrpic.twitter.com/6OVPu64EiU',\n",
       " 'huhuypic.twitter.com/Ur3ZWkFyrr',\n",
       " '@Cres_Krispic.twitter.com/DHOXP3dWKH',\n",
       " 'goodnitepic.twitter.com/S4i3vxvzgt',\n",
       " 'yaa!!!pic.twitter.com/TywiBzNTTo',\n",
       " 'banget!pic.twitter.com/pPWUXfEUj1',\n",
       " 'lupic.twitter.com/ACE92Gq31X',\n",
       " 'rosepic.twitter.com/HV2loABVWO',\n",
       " 'kokpic.twitter.com/DXSk9DsiU4',\n",
       " 'soalnyaaapic.twitter.com/dvyQdaSEx5',\n",
       " 'braypic.twitter.com/IO4AXFaHMh',\n",
       " 'yaaapic.twitter.com/C8JLUgoJ7w',\n",
       " '-_-pic.twitter.com/SDZcVQQHHK',\n",
       " 'nyaapic.twitter.com/f5vhYfqTMO',\n",
       " 'teruspic.twitter.com/ASlD3W2J8X',\n",
       " 'mompic.twitter.com/6v0rMwralK',\n",
       " 'pulangnyapic.twitter.com/g7W7OuiUiQ',\n",
       " 'Thankyouuuupic.twitter.com/FI8euZCmhV',\n",
       " 'apaanpic.twitter.com/4hnyTn8fdI',\n",
       " 'laperpic.twitter.com/p6UpD5ZLSU',\n",
       " '1pic.twitter.com/XZEM0RSJf7',\n",
       " 'ini*pic.twitter.com/LJMZI9nM8N',\n",
       " 'lucuuuupic.twitter.com/LlXGO5F1e9',\n",
       " 'yaaapic.twitter.com/Ov4rVt1XHF',\n",
       " 'gwpic.twitter.com/NTmmjrz5cM',\n",
       " 'jpic.twitter.com/rx0cxrIo4C',\n",
       " 'Hbdpic.twitter.com/WjzW1piYuC',\n",
       " 'offpic.twitter.com/26HTtEjhhR',\n",
       " 'kamupic.twitter.com/9UfLgQpPu4',\n",
       " 'sulistiawatipic.twitter.com/YDujjjLkht',\n",
       " 'allpic.twitter.com/qPit22dMhk',\n",
       " 'itempic.twitter.com/RaqzmNQkUw',\n",
       " 'gw.pic.twitter.com/EvucpzpTyI',\n",
       " 'gruppic.twitter.com/ocXc3DhmrZ',\n",
       " 'bgtpic.twitter.com/2336yM16Yd',\n",
       " 'dehpic.twitter.com/ZMGX48C9Hz',\n",
       " 'tukangnyapic.twitter.com/9w5WzpKk5G',\n",
       " 'kanpic.twitter.com/ZdK1yYRcjA',\n",
       " 'dah-_-pic.twitter.com/nihhWPGYnL',\n",
       " 'kokpic.twitter.com/cNwefnF1xa',\n",
       " 'thankyouuuuupic.twitter.com/8RfFOi9DcM',\n",
       " 'yaapic.twitter.com/nZZzrPT2ix',\n",
       " 'persamaanpic.twitter.com/69QGQFvufc',\n",
       " 'gendutpic.twitter.com/NU2iq39tLC',\n",
       " 'barusanpic.twitter.com/ZsivmGfdxz',\n",
       " 'ahhhhhpic.twitter.com/aha3IFQm2A',\n",
       " 'magerpic.twitter.com/tEANBkJOfP',\n",
       " 'galucuuuupic.twitter.com/TKOLecYwoW',\n",
       " 'yaaapic.twitter.com/leUDGXHlop',\n",
       " 'night!pic.twitter.com/UtlxTZeGmq',\n",
       " 'ketemupic.twitter.com/TU8d8M8ePl',\n",
       " 'dahhpic.twitter.com/koJUq6svAs',\n",
       " '2hari...pic.twitter.com/JOYWbiDF3h',\n",
       " 'Aq/amir?pic.twitter.com/mKvIFcJuUR',\n",
       " 'amirpic.twitter.com/pRZQmsrTWt',\n",
       " 'Nitippic.twitter.com/XoIjer8TsJ',\n",
       " 'bajigurpic.twitter.com/VTRU5YXEhK',\n",
       " 'yapic.twitter.com/PaVXdUgPH5',\n",
       " 'teruspic.twitter.com/GDUSQbSbme',\n",
       " 'Nitipppic.twitter.com/31e85hBWvK',\n",
       " 'Nitippic.twitter.com/i8D1t4yWik',\n",
       " '#Pemanispic.twitter.com/NkQpx4i2Zo',\n",
       " 'udhpic.twitter.com/eiEIVrOjqK',\n",
       " 'dahpic.twitter.com/ufuBvvJC7I',\n",
       " 'lgpic.twitter.com/uZOb40lhh5',\n",
       " 'gwpic.twitter.com/gRkXBTU8uF',\n",
       " 'aq.pic.twitter.com/KIsPbNDDAa',\n",
       " 'gemespic.twitter.com/juP5gYfnd6',\n",
       " 'thispic.twitter.com/qLMyblz8eP',\n",
       " 'dongpic.twitter.com/Hj1cm9kmWY',\n",
       " 'gak?hmmmpic.twitter.com/1kMT6g9Z5J',\n",
       " 'makpic.twitter.com/9F5oGuiJI3',\n",
       " 'yapic.twitter.com/vvEq7CSvUc',\n",
       " 'apa,,?pic.twitter.com/BpAjgZBZcR',\n",
       " 'panaspic.twitter.com/OB6HOkyM9I',\n",
       " 'ngadi2pic.twitter.com/lFlG0Xi72L',\n",
       " '????pic.twitter.com/ZWZFUiSL6Y',\n",
       " 'kmpic.twitter.com/szXHUCgtT6',\n",
       " 'gapapaapic.twitter.com/ebJE1oPIuv',\n",
       " 'duniakupic.twitter.com/eRRXsb4DxP',\n",
       " 'dicabeinpic.twitter.com/lG2mZTsB1T',\n",
       " 'dahpic.twitter.com/eTPSVBN3Rj',\n",
       " 'hhehepic.twitter.com/6nHzLxt4y4',\n",
       " 'Amiinnpic.twitter.com/aL9gnlfuQv',\n",
       " '#blenderMurahpic.twitter.com/VMCZwIJw8n',\n",
       " 'semogapic.twitter.com/UgXpC1zWUN',\n",
       " 'janluppic.twitter.com/67rxQ3N5Y4',\n",
       " 'jauhpic.twitter.com/OBgvh6LSrC',\n",
       " 'sendiripic.twitter.com/TswA17H9B8',\n",
       " 'dadpic.twitter.com/2TUgPXN0Q4',\n",
       " 'komuknapic.twitter.com/Sxxqt3YRth',\n",
       " 'ywdh...pic.twitter.com/vdHdkaSry3',\n",
       " 'Kangeeennnnnnpic.twitter.com/fdAhrPi6qm',\n",
       " 'hehehepic.twitter.com/NmVGfyFHKg',\n",
       " '#infoLokerpic.twitter.com/OEw14EvYhC']"
      ]
     },
     "execution_count": 37,
     "metadata": {},
     "output_type": "execute_result"
    }
   ],
   "source": [
    "pic_count1(senbatsu_vivi)"
   ]
  },
  {
   "cell_type": "code",
   "execution_count": 38,
   "metadata": {},
   "outputs": [],
   "source": [
    "#mengukur jumlah followers masing-masing member senbatsu\n",
    "jumlah_followers = {\"senbatsu_aby\": 58206, \"senbatsu_amel\": 63480, \"senbatsu_aya\": 63373, \"senbatsu_beby\": 563218, \"senbatsu_celine\": 78750, \n",
    "                 \"senbatsu_christy\": 28881, \"senbatsu_cinhap\": 128477, \"senbatsu_diani\": 49264, \"senbatsu_eli\": 24004, \"senbatsu_feni\": 172963, \"senbatsu_gracia\": 219351, \n",
    "                 \"senbatsu_jinan\": 78916, \"senbatsu_melati\": 78295, \"senbatsu_nadila\": 410636, \"senbatsu_shani\": 361937, \"senbatsu_vivi\": 26629}\n",
    "\n"
   ]
  },
  {
   "cell_type": "code",
   "execution_count": 39,
   "metadata": {},
   "outputs": [
    {
     "data": {
      "image/png": "[encoded data removed]",
      "text/plain": [
       "<Figure size 432x288 with 1 Axes>"
      ]
     },
     "metadata": {},
     "output_type": "display_data"
    },
    {
     "data": {
      "text/plain": [
       "{'senbatsu_aby': 58206,\n",
       " 'senbatsu_amel': 63480,\n",
       " 'senbatsu_aya': 63373,\n",
       " 'senbatsu_beby': 563218,\n",
       " 'senbatsu_celine': 78750,\n",
       " 'senbatsu_christy': 28881,\n",
       " 'senbatsu_cinhap': 128477,\n",
       " 'senbatsu_diani': 49264,\n",
       " 'senbatsu_eli': 24004,\n",
       " 'senbatsu_feni': 172963,\n",
       " 'senbatsu_gracia': 219351,\n",
       " 'senbatsu_jinan': 78916,\n",
       " 'senbatsu_melati': 78295,\n",
       " 'senbatsu_nadila': 410636,\n",
       " 'senbatsu_shani': 361937,\n",
       " 'senbatsu_vivi': 26629}"
      ]
     },
     "execution_count": 39,
     "metadata": {},
     "output_type": "execute_result"
    }
   ],
   "source": [
    "plt.style.use('ggplot')\n",
    "ax = plt.subplot()\n",
    "plt.barh(*zip(*jumlah_followers.items()))\n",
    "ax.set_title('Jumlah Followers Member Senbatsu')\n",
    "plt.show()\n",
    "jumlah_followers"
   ]
  },
  {
   "cell_type": "code",
   "execution_count": 40,
   "metadata": {},
   "outputs": [
    {
     "data": {
      "text/plain": [
       "4939"
      ]
     },
     "execution_count": 40,
     "metadata": {},
     "output_type": "execute_result"
    }
   ],
   "source": [
    "sum(senbatsu_count)"
   ]
  },
  {
   "cell_type": "code",
   "execution_count": 41,
   "metadata": {},
   "outputs": [
    {
     "data": {
      "text/plain": [
       "[334,\n",
       " 421,\n",
       " 241,\n",
       " 458,\n",
       " 111,\n",
       " 274,\n",
       " 227,\n",
       " 333,\n",
       " 373,\n",
       " 143,\n",
       " 500,\n",
       " 178,\n",
       " 232,\n",
       " 268,\n",
       " 392,\n",
       " 454]"
      ]
     },
     "execution_count": 41,
     "metadata": {},
     "output_type": "execute_result"
    }
   ],
   "source": [
    "senbatsu_count"
   ]
  },
  {
   "cell_type": "code",
   "execution_count": 42,
   "metadata": {},
   "outputs": [
    {
     "data": {
      "text/html": [
       "<div>\n",
       "<style scoped>\n",
       "    .dataframe tbody tr th:only-of-type {\n",
       "        vertical-align: middle;\n",
       "    }\n",
       "\n",
       "    .dataframe tbody tr th {\n",
       "        vertical-align: top;\n",
       "    }\n",
       "\n",
       "    .dataframe thead th {\n",
       "        text-align: right;\n",
       "    }\n",
       "</style>\n",
       "<table border=\"1\" class=\"dataframe\">\n",
       "  <thead>\n",
       "    <tr style=\"text-align: right;\">\n",
       "      <th></th>\n",
       "      <th>fullname</th>\n",
       "      <th>likes</th>\n",
       "      <th>replies</th>\n",
       "      <th>retweets</th>\n",
       "      <th>timestamp</th>\n",
       "      <th>tweet_url</th>\n",
       "      <th>username</th>\n",
       "    </tr>\n",
       "    <tr>\n",
       "      <th>text</th>\n",
       "      <th></th>\n",
       "      <th></th>\n",
       "      <th></th>\n",
       "      <th></th>\n",
       "      <th></th>\n",
       "      <th></th>\n",
       "      <th></th>\n",
       "    </tr>\n",
       "  </thead>\n",
       "  <tbody>\n",
       "    <tr>\n",
       "      <td>Selamat pagi dari aku yang pertama kalinya dandan seperti ini.\\n\\n#CongraduationBebyJKT48pic.twitter.com/mr4UjoZMvX</td>\n",
       "      <td>Beby Chaesara A</td>\n",
       "      <td>3134</td>\n",
       "      <td>634</td>\n",
       "      <td>640</td>\n",
       "      <td>2019-10-31 00:38:16</td>\n",
       "      <td>/bebyJKT48/status/1189703095938240512</td>\n",
       "      <td>bebyJKT48</td>\n",
       "    </tr>\n",
       "  </tbody>\n",
       "</table>\n",
       "</div>"
      ],
      "text/plain": [
       "                                                           fullname  likes  \\\n",
       "text                                                                         \n",
       "Selamat pagi dari aku yang pertama kalinya dand...  Beby Chaesara A   3134   \n",
       "\n",
       "                                                    replies  retweets  \\\n",
       "text                                                                    \n",
       "Selamat pagi dari aku yang pertama kalinya dand...      634       640   \n",
       "\n",
       "                                                             timestamp  \\\n",
       "text                                                                     \n",
       "Selamat pagi dari aku yang pertama kalinya dand... 2019-10-31 00:38:16   \n",
       "\n",
       "                                                                                tweet_url  \\\n",
       "text                                                                                        \n",
       "Selamat pagi dari aku yang pertama kalinya dand...  /bebyJKT48/status/1189703095938240512   \n",
       "\n",
       "                                                     username  \n",
       "text                                                           \n",
       "Selamat pagi dari aku yang pertama kalinya dand...  bebyJKT48  "
      ]
     },
     "execution_count": 42,
     "metadata": {},
     "output_type": "execute_result"
    }
   ],
   "source": [
    "senbatsu_beby.set_index('text').sort_values('replies',ascending=False).head(1)"
   ]
  },
  {
   "cell_type": "code",
   "execution_count": 43,
   "metadata": {},
   "outputs": [],
   "source": [
    "# membuat fungsi untuk mengukur total reply\n",
    "def total_reply(senbatsu):\n",
    "    return sum(senbatsu['replies'].to_list())"
   ]
  },
  {
   "cell_type": "code",
   "execution_count": 44,
   "metadata": {},
   "outputs": [],
   "source": [
    "totalreply = []\n",
    "for df in senbatsu_df:\n",
    "    totalreply.append(total_reply(df))"
   ]
  },
  {
   "cell_type": "code",
   "execution_count": 45,
   "metadata": {},
   "outputs": [
    {
     "data": {
      "image/png": "[encoded data removed]",
      "text/plain": [
       "<Figure size 432x288 with 1 Axes>"
      ]
     },
     "metadata": {},
     "output_type": "display_data"
    },
    {
     "data": {
      "text/plain": [
       "{'senbatsu_aby': 9028,\n",
       " 'senbatsu_amel': 47893,\n",
       " 'senbatsu_aya': 17407,\n",
       " 'senbatsu_beby': 28970,\n",
       " 'senbatsu_celine': 4387,\n",
       " 'senbatsu_christy': 21671,\n",
       " 'senbatsu_cinhap': 12610,\n",
       " 'senbatsu_diani': 6007,\n",
       " 'senbatsu_eli': 13824,\n",
       " 'senbatsu_feni': 5467,\n",
       " 'senbatsu_gracia': 49132,\n",
       " 'senbatsu_jinan': 7460,\n",
       " 'senbatsu_melati': 7299,\n",
       " 'senbatsu_nadila': 19109,\n",
       " 'senbatsu_shani': 54240,\n",
       " 'senbatsu_vivi': 46585}"
      ]
     },
     "execution_count": 45,
     "metadata": {},
     "output_type": "execute_result"
    }
   ],
   "source": [
    "plt.style.use('ggplot')\n",
    "I = dict(zip(senbatsu_set,totalreply))\n",
    "ax = plt.subplot()\n",
    "plt.barh(*zip(*I.items()))\n",
    "ax.set_title('Total Reply Seluruh Kicauan Member Senbatsu')\n",
    "plt.show()\n",
    "I"
   ]
  },
  {
   "cell_type": "code",
   "execution_count": 46,
   "metadata": {},
   "outputs": [],
   "source": [
    "# membuat fungsi untuk mengukur total likes\n",
    "def total_likes(senbatsu):\n",
    "    return sum(senbatsu['likes'].to_list())\n",
    "\n",
    "totallikes = []\n",
    "for df in senbatsu_df:\n",
    "    totallikes.append(total_likes(df))"
   ]
  },
  {
   "cell_type": "code",
   "execution_count": 47,
   "metadata": {},
   "outputs": [
    {
     "data": {
      "image/png": "[encoded data removed]",
      "text/plain": [
       "<Figure size 432x288 with 1 Axes>"
      ]
     },
     "metadata": {},
     "output_type": "display_data"
    },
    {
     "data": {
      "text/plain": [
       "{'senbatsu_aby': 111392,\n",
       " 'senbatsu_amel': 279958,\n",
       " 'senbatsu_aya': 133068,\n",
       " 'senbatsu_beby': 301526,\n",
       " 'senbatsu_celine': 67347,\n",
       " 'senbatsu_christy': 126354,\n",
       " 'senbatsu_cinhap': 125151,\n",
       " 'senbatsu_diani': 97718,\n",
       " 'senbatsu_eli': 126687,\n",
       " 'senbatsu_feni': 69402,\n",
       " 'senbatsu_gracia': 381809,\n",
       " 'senbatsu_jinan': 112170,\n",
       " 'senbatsu_melati': 96062,\n",
       " 'senbatsu_nadila': 154899,\n",
       " 'senbatsu_shani': 416563,\n",
       " 'senbatsu_vivi': 186747}"
      ]
     },
     "execution_count": 47,
     "metadata": {},
     "output_type": "execute_result"
    }
   ],
   "source": [
    "plt.style.use('ggplot')\n",
    "J = dict(zip(senbatsu_set,totallikes))\n",
    "ax = plt.subplot()\n",
    "plt.barh(*zip(*J.items()))\n",
    "ax.set_title('Total Likes Seluruh Kicauan Member Senbatsu')\n",
    "plt.show()\n",
    "J"
   ]
  },
  {
   "cell_type": "code",
   "execution_count": 48,
   "metadata": {},
   "outputs": [
    {
     "data": {
      "image/png": "[encoded data removed]",
      "text/plain": [
       "<Figure size 432x288 with 1 Axes>"
      ]
     },
     "metadata": {},
     "output_type": "display_data"
    },
    {
     "data": {
      "text/plain": [
       "{'senbatsu_aby': 8539,\n",
       " 'senbatsu_amel': 29603,\n",
       " 'senbatsu_aya': 10911,\n",
       " 'senbatsu_beby': 32008,\n",
       " 'senbatsu_celine': 6061,\n",
       " 'senbatsu_christy': 10966,\n",
       " 'senbatsu_cinhap': 12203,\n",
       " 'senbatsu_diani': 8180,\n",
       " 'senbatsu_eli': 11161,\n",
       " 'senbatsu_feni': 6288,\n",
       " 'senbatsu_gracia': 38858,\n",
       " 'senbatsu_jinan': 10678,\n",
       " 'senbatsu_melati': 6227,\n",
       " 'senbatsu_nadila': 14675,\n",
       " 'senbatsu_shani': 43477,\n",
       " 'senbatsu_vivi': 18349}"
      ]
     },
     "execution_count": 48,
     "metadata": {},
     "output_type": "execute_result"
    }
   ],
   "source": [
    "# membuat fungsi untuk mengukur total retweet\n",
    "def total_retweets(senbatsu):\n",
    "    return sum(senbatsu['retweets'].to_list())\n",
    "\n",
    "totalretweets = []\n",
    "for df in senbatsu_df:\n",
    "    totalretweets.append(total_retweets(df))\n",
    "\n",
    "#membuat figur dari total retweet tersebut\n",
    "plt.style.use('ggplot')\n",
    "K = dict(zip(senbatsu_set,totalretweets))\n",
    "ax = plt.subplot()\n",
    "plt.barh(*zip(*K.items()))\n",
    "ax.set_title('Total Retweets Seluruh Kicauan Member Senbatsu')\n",
    "plt.show()\n",
    "K"
   ]
  },
  {
   "cell_type": "code",
   "execution_count": 49,
   "metadata": {},
   "outputs": [
    {
     "data": {
      "text/plain": [
       "88.63173652694611"
      ]
     },
     "execution_count": 49,
     "metadata": {},
     "output_type": "execute_result"
    }
   ],
   "source": [
    "# mengukur rerata likes tiap kicauan member senbatsu\n",
    "totalretweet = sum(senbatsu_amel['retweets'].to_list())\n",
    "totalretweet/(senbatsu_aby['text'].count())"
   ]
  },
  {
   "cell_type": "code",
   "execution_count": 50,
   "metadata": {},
   "outputs": [],
   "source": [
    "# membuat fungsi untuk mengukur rerata likes tiap kicauan member senbatsu\n",
    "def average_likes(senbatsu):\n",
    "    averagelikes = sum(senbatsu['likes'].to_list())\n",
    "    return averagelikes/(senbatsu['text'].count())\n",
    "\n",
    "# mengukur rerata likes tiap kicauan dari semua member senbatsu\n",
    "list_average_likes = []\n",
    "for df in senbatsu_df:\n",
    "    list_average_likes.append(average_likes(df))"
   ]
  },
  {
   "cell_type": "code",
   "execution_count": 51,
   "metadata": {
    "scrolled": false
   },
   "outputs": [
    {
     "data": {
      "image/png": "[encoded data removed]",
      "text/plain": [
       "<Figure size 432x288 with 1 Axes>"
      ]
     },
     "metadata": {},
     "output_type": "display_data"
    },
    {
     "data": {
      "text/plain": [
       "{'senbatsu_aby': 333.50898203592817,\n",
       " 'senbatsu_amel': 664.9833729216152,\n",
       " 'senbatsu_aya': 552.149377593361,\n",
       " 'senbatsu_beby': 658.353711790393,\n",
       " 'senbatsu_celine': 606.7297297297297,\n",
       " 'senbatsu_christy': 461.1459854014599,\n",
       " 'senbatsu_cinhap': 551.3259911894273,\n",
       " 'senbatsu_diani': 293.4474474474475,\n",
       " 'senbatsu_eli': 339.64343163538877,\n",
       " 'senbatsu_feni': 485.3286713286713,\n",
       " 'senbatsu_gracia': 763.618,\n",
       " 'senbatsu_jinan': 630.1685393258427,\n",
       " 'senbatsu_melati': 414.0603448275862,\n",
       " 'senbatsu_nadila': 577.9813432835821,\n",
       " 'senbatsu_shani': 1062.6607142857142,\n",
       " 'senbatsu_vivi': 411.33700440528634}"
      ]
     },
     "execution_count": 51,
     "metadata": {},
     "output_type": "execute_result"
    }
   ],
   "source": [
    "plt.style.use('ggplot')\n",
    "L = dict(zip(senbatsu_set,list_average_likes))\n",
    "ax = plt.subplot()\n",
    "plt.barh(*zip(*L.items()))\n",
    "ax.set_title('Rerata Like per Kicauan Member Senbatsu')\n",
    "plt.show()\n",
    "L"
   ]
  },
  {
   "cell_type": "code",
   "execution_count": 52,
   "metadata": {},
   "outputs": [
    {
     "data": {
      "image/png": "[encoded data removed]",
      "text/plain": [
       "<Figure size 432x288 with 1 Axes>"
      ]
     },
     "metadata": {},
     "output_type": "display_data"
    },
    {
     "data": {
      "text/plain": [
       "{'senbatsu_aby': 25.565868263473053,\n",
       " 'senbatsu_amel': 70.31591448931117,\n",
       " 'senbatsu_aya': 45.273858921161825,\n",
       " 'senbatsu_beby': 69.88646288209607,\n",
       " 'senbatsu_celine': 54.6036036036036,\n",
       " 'senbatsu_christy': 40.02189781021898,\n",
       " 'senbatsu_cinhap': 53.757709251101325,\n",
       " 'senbatsu_diani': 24.564564564564563,\n",
       " 'senbatsu_eli': 29.92225201072386,\n",
       " 'senbatsu_feni': 43.97202797202797,\n",
       " 'senbatsu_gracia': 77.716,\n",
       " 'senbatsu_jinan': 59.98876404494382,\n",
       " 'senbatsu_melati': 26.84051724137931,\n",
       " 'senbatsu_nadila': 54.757462686567166,\n",
       " 'senbatsu_shani': 110.91071428571429,\n",
       " 'senbatsu_vivi': 40.41629955947136}"
      ]
     },
     "execution_count": 52,
     "metadata": {},
     "output_type": "execute_result"
    }
   ],
   "source": [
    "# membuat fungsi untuk mengukur rerata retweets tiap kicauan member senbatsu\n",
    "def average_retweets(senbatsu):\n",
    "    averageretweets = sum(senbatsu['retweets'].to_list())\n",
    "    return averageretweets/(senbatsu['text'].count())\n",
    "\n",
    "# mengukur rerata retweets tiap kicauan dari semua member senbatsu\n",
    "list_average_retweets = []\n",
    "for df in senbatsu_df:\n",
    "    list_average_retweets.append(average_retweets(df))\n",
    "\n",
    "plt.style.use('ggplot')\n",
    "M = dict(zip(senbatsu_set,list_average_retweets))\n",
    "ax = plt.subplot()\n",
    "plt.barh(*zip(*M.items()))\n",
    "ax.set_title('Rerata Retweet per Kicauan Member Senbatsu')\n",
    "plt.show()\n",
    "M"
   ]
  },
  {
   "cell_type": "code",
   "execution_count": 53,
   "metadata": {},
   "outputs": [
    {
     "data": {
      "image/png": "[encoded data removed]",
      "text/plain": [
       "<Figure size 432x288 with 1 Axes>"
      ]
     },
     "metadata": {},
     "output_type": "display_data"
    },
    {
     "data": {
      "text/plain": [
       "{'senbatsu_aby': 27.02994011976048,\n",
       " 'senbatsu_amel': 113.76009501187649,\n",
       " 'senbatsu_aya': 72.22821576763485,\n",
       " 'senbatsu_beby': 63.2532751091703,\n",
       " 'senbatsu_celine': 39.52252252252252,\n",
       " 'senbatsu_christy': 79.0912408759124,\n",
       " 'senbatsu_cinhap': 55.55066079295154,\n",
       " 'senbatsu_diani': 18.03903903903904,\n",
       " 'senbatsu_eli': 37.061662198391424,\n",
       " 'senbatsu_feni': 38.23076923076923,\n",
       " 'senbatsu_gracia': 98.264,\n",
       " 'senbatsu_jinan': 41.91011235955056,\n",
       " 'senbatsu_melati': 31.461206896551722,\n",
       " 'senbatsu_nadila': 71.30223880597015,\n",
       " 'senbatsu_shani': 138.3673469387755,\n",
       " 'senbatsu_vivi': 102.6101321585903}"
      ]
     },
     "execution_count": 53,
     "metadata": {},
     "output_type": "execute_result"
    }
   ],
   "source": [
    "# membuat fungsi untuk mengukur rerata replies tiap kicauan member senbatsu\n",
    "def average_replies(senbatsu):\n",
    "    averagereplies = sum(senbatsu['replies'].to_list())\n",
    "    return averagereplies/(senbatsu['text'].count())\n",
    "\n",
    "# mengukur rerata replies tiap kicauan dari semua member senbatsu\n",
    "list_average_replies = []\n",
    "for df in senbatsu_df:\n",
    "    list_average_replies.append(average_replies(df))\n",
    "\n",
    "plt.style.use('ggplot')\n",
    "M = dict(zip(senbatsu_set,list_average_replies))\n",
    "ax = plt.subplot()\n",
    "plt.barh(*zip(*M.items()))\n",
    "ax.set_title('Rerata Reply per Kicauan Member Senbatsu')\n",
    "plt.show()\n",
    "M"
   ]
  },
  {
   "cell_type": "code",
   "execution_count": 54,
   "metadata": {},
   "outputs": [
    {
     "data": {
      "text/html": [
       "<div>\n",
       "<style scoped>\n",
       "    .dataframe tbody tr th:only-of-type {\n",
       "        vertical-align: middle;\n",
       "    }\n",
       "\n",
       "    .dataframe tbody tr th {\n",
       "        vertical-align: top;\n",
       "    }\n",
       "\n",
       "    .dataframe thead th {\n",
       "        text-align: right;\n",
       "    }\n",
       "</style>\n",
       "<table border=\"1\" class=\"dataframe\">\n",
       "  <thead>\n",
       "    <tr style=\"text-align: right;\">\n",
       "      <th></th>\n",
       "      <th>fullname</th>\n",
       "      <th>likes</th>\n",
       "      <th>replies</th>\n",
       "      <th>retweets</th>\n",
       "      <th>timestamp</th>\n",
       "      <th>tweet_url</th>\n",
       "      <th>username</th>\n",
       "    </tr>\n",
       "    <tr>\n",
       "      <th>text</th>\n",
       "      <th></th>\n",
       "      <th></th>\n",
       "      <th></th>\n",
       "      <th></th>\n",
       "      <th></th>\n",
       "      <th></th>\n",
       "      <th></th>\n",
       "    </tr>\n",
       "  </thead>\n",
       "  <tbody>\n",
       "    <tr>\n",
       "      <td>#IzinkanAku joget entah apa yang merasukimu~pic.twitter.com/Q2ZtrzsZxu</td>\n",
       "      <td>Riska Amelia Putri</td>\n",
       "      <td>3995</td>\n",
       "      <td>509</td>\n",
       "      <td>1197</td>\n",
       "      <td>2019-10-02 06:03:02</td>\n",
       "      <td>/R_AmelJKT48/status/1179275579994120192</td>\n",
       "      <td>R_AmelJKT48</td>\n",
       "    </tr>\n",
       "  </tbody>\n",
       "</table>\n",
       "</div>"
      ],
      "text/plain": [
       "                                                              fullname  likes  \\\n",
       "text                                                                            \n",
       "#IzinkanAku joget entah apa yang merasukimu~pic...  Riska Amelia Putri   3995   \n",
       "\n",
       "                                                    replies  retweets  \\\n",
       "text                                                                    \n",
       "#IzinkanAku joget entah apa yang merasukimu~pic...      509      1197   \n",
       "\n",
       "                                                             timestamp  \\\n",
       "text                                                                     \n",
       "#IzinkanAku joget entah apa yang merasukimu~pic... 2019-10-02 06:03:02   \n",
       "\n",
       "                                                                                  tweet_url  \\\n",
       "text                                                                                          \n",
       "#IzinkanAku joget entah apa yang merasukimu~pic...  /R_AmelJKT48/status/1179275579994120192   \n",
       "\n",
       "                                                       username  \n",
       "text                                                             \n",
       "#IzinkanAku joget entah apa yang merasukimu~pic...  R_AmelJKT48  "
      ]
     },
     "execution_count": 54,
     "metadata": {},
     "output_type": "execute_result"
    }
   ],
   "source": [
    "senbatsu_amel.set_index('text').sort_values('retweets', ascending=False).head(1)"
   ]
  },
  {
   "cell_type": "code",
   "execution_count": null,
   "metadata": {},
   "outputs": [],
   "source": []
  }
 ],
 "metadata": {
  "kernelspec": {
   "display_name": "Python 3",
   "language": "python",
   "name": "python3"
  },
  "language_info": {
   "codemirror_mode": {
    "name": "ipython",
    "version": 3
   },
   "file_extension": ".py",
   "mimetype": "text/x-python",
   "name": "python",
   "nbconvert_exporter": "python",
   "pygments_lexer": "ipython3",
   "version": "3.7.4"
  }
 },
 "nbformat": 4,
 "nbformat_minor": 2
}
